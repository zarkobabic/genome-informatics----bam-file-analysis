{
 "cells": [
  {
   "cell_type": "markdown",
   "id": "c1713b9d-19fb-4af5-93d1-cceb5010eb4b",
   "metadata": {},
   "source": [
    "<h1><b>Domaci zadatak 2 iz predmeta \"Genomska informatika\"</b1></h1>\n",
    "<h2>Student: Žarko Babić 3109/23</h2>"
   ]
  },
  {
   "cell_type": "markdown",
   "id": "c9aaea08-0abc-44b5-8578-36dae18ed94a",
   "metadata": {},
   "source": [
    " "
   ]
  },
  {
   "cell_type": "markdown",
   "id": "cda9facd-a623-4ddd-bd94-415f167e9d7d",
   "metadata": {},
   "source": [
    "<h3>Installing the pysam library:</h3>"
   ]
  },
  {
   "cell_type": "code",
   "execution_count": 1,
   "id": "1c37aef5-5b55-413c-a5f6-67b69fe629fa",
   "metadata": {},
   "outputs": [
    {
     "name": "stdout",
     "output_type": "stream",
     "text": [
      "Defaulting to user installation because normal site-packages is not writeable\n",
      "Requirement already satisfied: pysam in ./.local/lib/python3.10/site-packages (0.22.0)\n",
      "Note: you may need to restart the kernel to use updated packages.\n"
     ]
    }
   ],
   "source": [
    "pip install pysam"
   ]
  },
  {
   "cell_type": "markdown",
   "id": "b118b364-9661-4ac4-8794-1435fc2c525e",
   "metadata": {},
   "source": [
    "<h3>Taking the first read from the AlignmentFile:</h3>"
   ]
  },
  {
   "cell_type": "code",
   "execution_count": 2,
   "id": "f1e31be0-a1a6-4450-b256-a23b458e5b5e",
   "metadata": {},
   "outputs": [],
   "source": [
    "import pysam\n",
    "bamFile = pysam.AlignmentFile(\"merged-tumor.bam\")\n",
    "firstRead = None\n",
    "\n",
    "for read in bamFile:\n",
    "    firstRead = read\n",
    "    break\n",
    "bamFile.close()"
   ]
  },
  {
   "cell_type": "markdown",
   "id": "cbae6240-d1cb-4544-a022-8ded865de89c",
   "metadata": {},
   "source": [
    "<h3>Inspecting the fields of the AlignedSegment object made from the first read:</h3>"
   ]
  },
  {
   "cell_type": "markdown",
   "id": "3a44ab4a-c9a5-4fdc-bbaa-6b898b5c51f4",
   "metadata": {},
   "source": [
    "<i><b>QNAME:</b></i>"
   ]
  },
  {
   "cell_type": "code",
   "execution_count": 3,
   "id": "12f7986a-c149-4e13-9355-1b5d266aa8f3",
   "metadata": {},
   "outputs": [
    {
     "name": "stdout",
     "output_type": "stream",
     "text": [
      "C0HVYACXX120402:7:1207:5722:57044\n"
     ]
    }
   ],
   "source": [
    "print(firstRead.query_name)"
   ]
  },
  {
   "cell_type": "markdown",
   "id": "f425614c-33e9-4d96-8562-9e823dd27a4a",
   "metadata": {},
   "source": [
    "<i><b>FLAG:</b></i>"
   ]
  },
  {
   "cell_type": "code",
   "execution_count": 4,
   "id": "998f0d0c-d592-4d7d-b008-d314e2eacd55",
   "metadata": {},
   "outputs": [
    {
     "name": "stdout",
     "output_type": "stream",
     "text": [
      "1187\n"
     ]
    }
   ],
   "source": [
    "print(firstRead.flag)"
   ]
  },
  {
   "cell_type": "markdown",
   "id": "95633963-a1b4-4aca-9ac0-3889b9455ecd",
   "metadata": {},
   "source": [
    "<i><b>RNAME:</b></i>"
   ]
  },
  {
   "cell_type": "code",
   "execution_count": 5,
   "id": "92d0f5a0-894e-4c77-a011-4a1dc4c6b503",
   "metadata": {},
   "outputs": [
    {
     "name": "stdout",
     "output_type": "stream",
     "text": [
      "20\n"
     ]
    }
   ],
   "source": [
    "print(firstRead.reference_id)"
   ]
  },
  {
   "cell_type": "markdown",
   "id": "ac111c0f-092d-4e6f-ab86-b17ff596d645",
   "metadata": {},
   "source": [
    "<i><b>POS:</b></i>"
   ]
  },
  {
   "cell_type": "code",
   "execution_count": 6,
   "id": "dad1667c-45d0-4be7-8be5-b919f2e9ae18",
   "metadata": {},
   "outputs": [
    {
     "name": "stdout",
     "output_type": "stream",
     "text": [
      "9483248\n"
     ]
    }
   ],
   "source": [
    "print(firstRead.reference_start)"
   ]
  },
  {
   "cell_type": "markdown",
   "id": "74ef9b44-3301-40f0-8696-6238ce0d10c7",
   "metadata": {},
   "source": [
    "<i><b>MAPQ:</b></i>"
   ]
  },
  {
   "cell_type": "code",
   "execution_count": 7,
   "id": "45000fac-9eb9-4cb9-9205-0cbaece2e0fc",
   "metadata": {},
   "outputs": [
    {
     "name": "stdout",
     "output_type": "stream",
     "text": [
      "27\n"
     ]
    }
   ],
   "source": [
    "print(firstRead.mapping_quality)"
   ]
  },
  {
   "cell_type": "markdown",
   "id": "3216f145-573e-4f71-8184-6a4e2e55132d",
   "metadata": {},
   "source": [
    "<i><b>CIGAR:</b></i>"
   ]
  },
  {
   "cell_type": "code",
   "execution_count": 8,
   "id": "454e5ac1-99dd-4c53-bf28-c2b88c9cb70e",
   "metadata": {},
   "outputs": [
    {
     "name": "stdout",
     "output_type": "stream",
     "text": [
      "76M\n"
     ]
    }
   ],
   "source": [
    "print(firstRead.cigarstring)"
   ]
  },
  {
   "cell_type": "markdown",
   "id": "3693489c-d7be-4993-aca4-aa48d4a76e40",
   "metadata": {},
   "source": [
    "<i><b>MRNM: </b></i>(the reference id of the mate/next read)"
   ]
  },
  {
   "cell_type": "code",
   "execution_count": 9,
   "id": "48bb91c5-4d48-45c5-83d0-f2e43fea2eab",
   "metadata": {},
   "outputs": [
    {
     "name": "stdout",
     "output_type": "stream",
     "text": [
      "20\n"
     ]
    }
   ],
   "source": [
    "print(firstRead.next_reference_id)"
   ]
  },
  {
   "cell_type": "markdown",
   "id": "6a7fd401-e9c9-4d99-b539-ba9abe5aef86",
   "metadata": {},
   "source": [
    "<i><b>MPOS:</b></i> (the position of the mate/next read)"
   ]
  },
  {
   "cell_type": "code",
   "execution_count": 10,
   "id": "44cebccb-d432-4a87-bbe6-0959db7c3e49",
   "metadata": {},
   "outputs": [
    {
     "name": "stdout",
     "output_type": "stream",
     "text": [
      "9483381\n"
     ]
    }
   ],
   "source": [
    "print(firstRead.next_reference_start)"
   ]
  },
  {
   "cell_type": "markdown",
   "id": "40164e61-bc25-4aac-9de1-0cb2d9e6da16",
   "metadata": {},
   "source": [
    "<i><b>ISIZE:</b></i>"
   ]
  },
  {
   "cell_type": "code",
   "execution_count": 11,
   "id": "602ac1cc-81a0-4578-ae08-dd7b3561b964",
   "metadata": {},
   "outputs": [
    {
     "name": "stdout",
     "output_type": "stream",
     "text": [
      "209\n"
     ]
    }
   ],
   "source": [
    "print(firstRead.template_length)"
   ]
  },
  {
   "cell_type": "markdown",
   "id": "5c3f2903-4f7b-4b0b-abe0-b0c5c5833ada",
   "metadata": {},
   "source": [
    "<i><b>SEQ:</b></i>"
   ]
  },
  {
   "cell_type": "code",
   "execution_count": 12,
   "id": "1cf72515-d6de-4f07-863b-fb75a9bcd162",
   "metadata": {},
   "outputs": [
    {
     "name": "stdout",
     "output_type": "stream",
     "text": [
      "TTTTCAAACAGTATCTATGCCTGCCAAATGTGAACATATAAAAAAAAACCAGAATGTGCCATTCTGATTTAAACTG\n"
     ]
    }
   ],
   "source": [
    "print(firstRead.seq)"
   ]
  },
  {
   "cell_type": "markdown",
   "id": "e302e96a-b6d5-48c9-be99-9ff18ac21706",
   "metadata": {},
   "source": [
    "<i><b>QUAL:</b></i>"
   ]
  },
  {
   "cell_type": "code",
   "execution_count": 13,
   "id": "c9a2c600-39d9-4fbf-852c-a432223458e5",
   "metadata": {},
   "outputs": [
    {
     "name": "stdout",
     "output_type": "stream",
     "text": [
      "==<>@?@@>@D?>@C?>8JA5?>CC>?@???BB;H-:4A?D=DB8BDE?GBJCD@B8??E<A>CDJB@B>AA@@@C\n"
     ]
    }
   ],
   "source": [
    "print(firstRead.qual)"
   ]
  },
  {
   "cell_type": "markdown",
   "id": "1cb06b12-5931-4e1b-bd62-ef98a56fe5d5",
   "metadata": {},
   "source": [
    "<i><b>Decoded qualities (firstRead.qual(qualities in ASCII) - 33):</b></i>"
   ]
  },
  {
   "cell_type": "code",
   "execution_count": 14,
   "id": "440c569e-e49d-4fb0-994d-16baafc271d1",
   "metadata": {},
   "outputs": [
    {
     "name": "stdout",
     "output_type": "stream",
     "text": [
      "array('B', [28, 28, 27, 29, 31, 30, 31, 31, 29, 31, 35, 30, 29, 31, 34, 30, 29, 23, 41, 32, 20, 30, 29, 34, 34, 29, 30, 31, 30, 30, 30, 33, 33, 26, 39, 12, 25, 19, 32, 30, 35, 28, 35, 33, 23, 33, 35, 36, 30, 38, 33, 41, 34, 35, 31, 33, 23, 30, 30, 36, 27, 32, 29, 34, 35, 41, 33, 31, 33, 29, 32, 32, 31, 31, 31, 34])\n"
     ]
    }
   ],
   "source": [
    "print(firstRead.query_qualities)"
   ]
  },
  {
   "cell_type": "markdown",
   "id": "2b5f553e-ef8c-4910-ac8b-0c81f03ad4cd",
   "metadata": {},
   "source": [
    "<i><b>TAG:</b></i>"
   ]
  },
  {
   "cell_type": "code",
   "execution_count": 15,
   "id": "d7a1bc5b-6993-4b7c-bd6b-a5b210a68fc8",
   "metadata": {},
   "outputs": [
    {
     "name": "stdout",
     "output_type": "stream",
     "text": [
      "[('XA', 'GL000217.1,-110754,76M,1;'), ('BD', 'NNNNNNNNNNNNNNNNNNNNNNNNNNNNNNNNNNNNNNNNNNNNNNNNNNNNNNNNNNNNNNNNNNNNNNNNNNNN'), ('MD', '76'), ('RG', '1'), ('BI', 'NNNNNNNNNNNNNNNNNNNNNNNNNNNNNNNNNNNNNNNNNNNNNNNNNNNNNNNNNNNNNNNNNNNNNNNNNNNN'), ('NM', 0), ('MQ', 27), ('AS', 76), ('XS', 71)]\n"
     ]
    }
   ],
   "source": [
    "print(firstRead.get_tags())"
   ]
  },
  {
   "cell_type": "markdown",
   "id": "998d346a-0b89-46d4-9841-94093c8f56e0",
   "metadata": {},
   "source": [
    "<h3>Inspecting the flag field:</h3>"
   ]
  },
  {
   "cell_type": "markdown",
   "id": "240b5c65-85de-4228-a2aa-aea5446b72c4",
   "metadata": {},
   "source": [
    "<b>Flag field of the first read:</b>"
   ]
  },
  {
   "cell_type": "code",
   "execution_count": 16,
   "id": "f7316b17-d4e7-496f-a6a0-7c9ba64995b4",
   "metadata": {},
   "outputs": [
    {
     "name": "stdout",
     "output_type": "stream",
     "text": [
      "1187\n"
     ]
    }
   ],
   "source": [
    "print(firstRead.flag)"
   ]
  },
  {
   "cell_type": "markdown",
   "id": "d21b5b23-c4e8-47ce-a0a2-367c74cc4ee8",
   "metadata": {},
   "source": [
    "<b>Summary of the flag 1187:</b>\n",
    "    <li>read paired (0x1)</li>\n",
    "    <li>read mapped in proper pair (0x2)</li>\n",
    "    <li>mate reverse strand (0x20)</li>\n",
    "    <li>second in pair (0x80)</li>\n",
    "    <li>read is PCR or optical duplicate (0x400)</li>"
   ]
  },
  {
   "cell_type": "markdown",
   "id": "cc12507f-17fe-4240-b4fc-04b488df350a",
   "metadata": {},
   "source": [
    "<h3>Checking out the flag for some reads:</h3>"
   ]
  },
  {
   "cell_type": "code",
   "execution_count": 17,
   "id": "b92390b7-c5b4-498d-9f92-71c8702b29d1",
   "metadata": {},
   "outputs": [
    {
     "name": "stdout",
     "output_type": "stream",
     "text": [
      "Read number 2, flag value: 163\n",
      "Read Summary:\n",
      "read paired (0x1)\n",
      "read mapped in proper pair (0x2)\n",
      "mate reverse strand (0x20)\n",
      "second in pair (0x80)\n",
      "\n",
      "\n",
      "Read number 3, flag value: 99\n",
      "Read Summary:\n",
      "read paired (0x1)\n",
      "read mapped in proper pair (0x2)\n",
      "mate reverse strand (0x20)\n",
      "first in pair (0x40)\n",
      "\n",
      "\n",
      "Read number 4, flag value: 99\n",
      "Read Summary:\n",
      "read paired (0x1)\n",
      "read mapped in proper pair (0x2)\n",
      "mate reverse strand (0x20)\n",
      "first in pair (0x40)\n",
      "\n",
      "\n",
      "Read number 5, flag value: 99\n",
      "Read Summary:\n",
      "read paired (0x1)\n",
      "read mapped in proper pair (0x2)\n",
      "mate reverse strand (0x20)\n",
      "first in pair (0x40)\n",
      "\n",
      "\n",
      "Read number 6, flag value: 163\n",
      "Read Summary:\n",
      "read paired (0x1)\n",
      "read mapped in proper pair (0x2)\n",
      "mate reverse strand (0x20)\n",
      "second in pair (0x80)\n",
      "\n",
      "\n",
      "Read number 7, flag value: 99\n",
      "Read Summary:\n",
      "read paired (0x1)\n",
      "read mapped in proper pair (0x2)\n",
      "mate reverse strand (0x20)\n",
      "first in pair (0x40)\n",
      "\n",
      "\n",
      "Read number 8, flag value: 1123\n",
      "Read Summary:\n",
      "read paired (0x1)\n",
      "read mapped in proper pair (0x2)\n",
      "mate reverse strand (0x20)\n",
      "first in pair (0x40)\n",
      "read is PCR or optical duplicate (0x400)\n",
      "\n",
      "\n"
     ]
    }
   ],
   "source": [
    "counter = 0\n",
    "mask_read_paired = 0x1\n",
    "mask_read_mapped_in_proper_pair = 0x2\n",
    "mask_read_unmapped = 0x4\n",
    "mask_mate_unmapped = 0x8\n",
    "mask_read_reverse_strand = 0x10\n",
    "mask_mate_reverse_strand = 0x20\n",
    "mask_first_in_pair = 0x40\n",
    "mask_second_in_pair = 0x80\n",
    "mask_not_primary_alignment = 0x100\n",
    "mask_read_fails_platform = 0x200\n",
    "mask_read_PCR = 0x400\n",
    "mask_read_supplementary_alignment = 0x800\n",
    "\n",
    "bamFileFlagsAnalysis = pysam.AlignmentFile(\"merged-tumor.bam\")\n",
    "\n",
    "for readed in bamFileFlagsAnalysis:\n",
    "    counter += 1\n",
    "    if counter == 1:\n",
    "        continue\n",
    "    elif counter > 8:\n",
    "        break\n",
    "    else:\n",
    "        print(\"Read number \" + str(counter) + \", flag value: \" + str(readed.flag))\n",
    "\n",
    "        print(\"Read Summary:\")\n",
    "        \n",
    "        if(readed.flag & mask_read_paired):\n",
    "            print(\"read paired (0x1)\")\n",
    "        if(readed.flag & mask_read_mapped_in_proper_pair):\n",
    "            print(\"read mapped in proper pair (0x2)\")\n",
    "        if(readed.flag & mask_read_unmapped):\n",
    "            print(\"read unmapped (0x4)\")\n",
    "        if(readed.flag & mask_mate_unmapped):\n",
    "            print(\"mate unmapped (0x8)\")\n",
    "        if(readed.flag & mask_read_reverse_strand):\n",
    "            print(\"read reverse strand (0x10)\")\n",
    "        if(readed.flag & mask_mate_reverse_strand):\n",
    "            print(\"mate reverse strand (0x20)\")\n",
    "        if(readed.flag & mask_first_in_pair):\n",
    "            print(\"first in pair (0x40)\")\n",
    "        if(readed.flag & mask_second_in_pair):\n",
    "            print(\"second in pair (0x80)\")\n",
    "        if(readed.flag & mask_not_primary_alignment):\n",
    "            print(\"not primary alignment (0x100)\")\n",
    "        if(readed.flag & mask_read_fails_platform):\n",
    "            print(\"read fails platform/vendor quality checks (0x200)\")\n",
    "        if(readed.flag & mask_read_PCR):\n",
    "            print(\"read is PCR or optical duplicate (0x400)\")\n",
    "        if(readed.flag & mask_read_supplementary_alignment):\n",
    "            print(\"supplementary alignment (0x800)\")\n",
    "\n",
    "        print(\"\\n\")\n",
    "bamFileFlagsAnalysis.close()"
   ]
  },
  {
   "cell_type": "markdown",
   "id": "ac96287d-b0a2-4a96-8494-ab14d0a5f115",
   "metadata": {},
   "source": [
    "<h3>Calculating stats</h3>"
   ]
  },
  {
   "cell_type": "code",
   "execution_count": 23,
   "id": "ce0df83e-43c2-4910-b2bc-6da34c09376d",
   "metadata": {
    "scrolled": true
   },
   "outputs": [
    {
     "name": "stdout",
     "output_type": "stream",
     "text": [
      "Total number of unmapped reads: \n",
      "17765\n",
      "\n",
      "\n",
      "Total number of reads: \n",
      "2921629\n",
      "\n",
      "\n",
      "Number of reads with mapping quality 0: \n",
      "126628\n",
      "\n",
      "\n",
      "Average mapping quality for all the reads: \n",
      "55.91379158681681\n",
      "\n",
      "\n",
      "Average mapping quality if reads with 0 map quality are filtered out: \n",
      "58.446975510921106\n",
      "\n",
      "\n"
     ]
    }
   ],
   "source": [
    "bamFileForAnalysis = pysam.AlignmentFile(\"merged-tumor.bam\")\n",
    "\n",
    "unmappedCounter = 0\n",
    "mappingZeroQualityCounter = 0\n",
    "totalNumReads = 0\n",
    "totalSumQualities = 0\n",
    "totalSumQualitiesFilteredZeros = 0\n",
    "countFilteredZeros = 0\n",
    "\n",
    "for curr in bamFileForAnalysis:\n",
    "    totalSumQualities += curr.mapping_quality\n",
    "    totalNumReads += 1\n",
    "    if(curr.flag & mask_read_unmapped):\n",
    "        unmappedCounter += 1\n",
    "    if(curr.mapping_quality == 0):\n",
    "        mappingZeroQualityCounter += 1\n",
    "    if(curr.mapping_quality != 0):\n",
    "        countFilteredZeros += 1\n",
    "        totalSumQualitiesFilteredZeros += curr.mapping_quality\n",
    "\n",
    "averageMappingQuality = totalSumQualities / totalNumReads\n",
    "averageMappingQualityFilteredZeros = totalSumQualitiesFilteredZeros / countFilteredZeros\n",
    "\n",
    "print(\"Total number of unmapped reads: \")\n",
    "print(unmappedCounter)\n",
    "print(\"\\n\")\n",
    "\n",
    "print(\"Total number of reads: \")\n",
    "print(totalNumReads)\n",
    "print(\"\\n\")\n",
    "\n",
    "print(\"Number of reads with mapping quality 0: \")\n",
    "print(mappingZeroQualityCounter)\n",
    "print(\"\\n\")\n",
    "\n",
    "print(\"Average mapping quality for all the reads: \")\n",
    "print(averageMappingQuality)\n",
    "print(\"\\n\")\n",
    "\n",
    "print(\"Average mapping quality if reads with 0 map quality are filtered out: \")\n",
    "print(averageMappingQualityFilteredZeros)\n",
    "print(\"\\n\")\n",
    "\n",
    "bamFileForAnalysis.close()"
   ]
  },
  {
   "cell_type": "code",
   "execution_count": null,
   "id": "f4139ba7-e9d8-4ea6-b80f-a182da5047d0",
   "metadata": {},
   "outputs": [],
   "source": []
  }
 ],
 "metadata": {
  "kernelspec": {
   "display_name": "Python 3 (ipykernel)",
   "language": "python",
   "name": "python3"
  },
  "language_info": {
   "codemirror_mode": {
    "name": "ipython",
    "version": 3
   },
   "file_extension": ".py",
   "mimetype": "text/x-python",
   "name": "python",
   "nbconvert_exporter": "python",
   "pygments_lexer": "ipython3",
   "version": "3.10.12"
  }
 },
 "nbformat": 4,
 "nbformat_minor": 5
}
